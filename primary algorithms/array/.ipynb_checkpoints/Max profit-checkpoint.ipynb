{
 "cells": [
  {
   "cell_type": "code",
   "execution_count": 10,
   "metadata": {},
   "outputs": [
    {
     "name": "stdout",
     "output_type": "stream",
     "text": [
      "[57 56 57 93 89]\n",
      "<class 'list'>\n"
     ]
    }
   ],
   "source": [
    "import numpy as np\n",
    "\n",
    "prices = np.random.randint(0, 100, size=5)\n",
    "print(prices)\n",
    "\n",
    "print(type([1,2,3,4]))"
   ]
  },
  {
   "cell_type": "code",
   "execution_count": 11,
   "metadata": {},
   "outputs": [
    {
     "name": "stdout",
     "output_type": "stream",
     "text": [
      "37\n"
     ]
    }
   ],
   "source": [
    "def max_profit(prices: list) -> int:\n",
    "    profit = 0\n",
    "    start_price = prices[0]\n",
    "    end_price = prices[1]\n",
    "        \n",
    "    for cur_price in prices[2:]:\n",
    "        if start_price > end_price & end_price < cur_price:\n",
    "            start_price = end_price\n",
    "            end_price = cur_price\n",
    "        elif start_price < end_price & end_price > cur_price:\n",
    "            profit = profit + end_price - start_price\n",
    "            end_price = cur_price\n",
    "            start_price = end_price\n",
    "        else:\n",
    "            end_price = cur_price\n",
    "    return profit\n",
    "\n",
    "print(max_profit(prices))\n",
    "        \n",
    "        "
   ]
  },
  {
   "cell_type": "code",
   "execution_count": null,
   "metadata": {},
   "outputs": [],
   "source": []
  }
 ],
 "metadata": {
  "kernelspec": {
   "display_name": "Python 3",
   "language": "python",
   "name": "python3"
  },
  "language_info": {
   "codemirror_mode": {
    "name": "ipython",
    "version": 3
   },
   "file_extension": ".py",
   "mimetype": "text/x-python",
   "name": "python",
   "nbconvert_exporter": "python",
   "pygments_lexer": "ipython3",
   "version": "3.7.7"
  }
 },
 "nbformat": 4,
 "nbformat_minor": 4
}
