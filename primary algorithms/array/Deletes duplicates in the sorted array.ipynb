{
 "cells": [
  {
   "cell_type": "code",
   "execution_count": 1,
   "metadata": {},
   "outputs": [
    {
     "name": "stdout",
     "output_type": "stream",
     "text": [
      "[4 5 0 1 2 1 5]\n"
     ]
    }
   ],
   "source": [
    "import numpy as np\n",
    "\n",
    "input = np.random.randint(0, 6, 7)\n",
    "print(input)"
   ]
  },
  {
   "cell_type": "code",
   "execution_count": 2,
   "metadata": {},
   "outputs": [
    {
     "name": "stdout",
     "output_type": "stream",
     "text": [
      "[0 1 1 2 4 5 5]\n"
     ]
    }
   ],
   "source": [
    "input_sort = np.sort(input)\n",
    "print(input_sort)"
   ]
  },
  {
   "cell_type": "code",
   "execution_count": 3,
   "metadata": {},
   "outputs": [
    {
     "name": "stdout",
     "output_type": "stream",
     "text": [
      "[0 1 2 4 5 5 5]\n",
      "4\n"
     ]
    }
   ],
   "source": [
    "def fun(input_sort:np.ndarray):\n",
    "    index_deal = 0\n",
    "    input_1 = input_sort[1:]\n",
    "\n",
    "    for num in input_1:\n",
    "        if num != input_sort[index_deal]:\n",
    "            index_deal = index_deal + 1\n",
    "            input_sort[index_deal] = num\n",
    "    return index_deal\n",
    "    \n",
    "index = fun(input_sort)\n",
    "print(input_sort)\n",
    "print(index)"
   ]
  },
  {
   "cell_type": "code",
   "execution_count": 4,
   "metadata": {},
   "outputs": [
    {
     "name": "stdout",
     "output_type": "stream",
     "text": [
      "1 2 [1 1 2 4 4 5 5]\n",
      "2 4 [1 2 2 4 4 5 5]\n",
      "3 5 [1 2 4 4 4 5 5]\n",
      "[1 2 4 5 4 5 5]\n",
      "3\n"
     ]
    }
   ],
   "source": [
    "index_deal = 0\n",
    "input_1 = input_sort[1:]\n",
    "\n",
    "for num in input_1:\n",
    "    if num != input_sort[index_deal]:\n",
    "        index_deal = index_deal + 1\n",
    "        print(index_deal,num,input_sort)\n",
    "        input_sort[index_deal] = num\n",
    "    \n",
    "print(input_sort)\n",
    "print(index_deal)"
   ]
  },
  {
   "cell_type": "code",
   "execution_count": null,
   "metadata": {},
   "outputs": [],
   "source": []
  }
 ],
 "metadata": {
  "kernelspec": {
   "display_name": "Python 3",
   "language": "python",
   "name": "python3"
  },
  "language_info": {
   "codemirror_mode": {
    "name": "ipython",
    "version": 3
   },
   "file_extension": ".py",
   "mimetype": "text/x-python",
   "name": "python",
   "nbconvert_exporter": "python",
   "pygments_lexer": "ipython3",
   "version": "3.7.7"
  }
 },
 "nbformat": 4,
 "nbformat_minor": 4
}
