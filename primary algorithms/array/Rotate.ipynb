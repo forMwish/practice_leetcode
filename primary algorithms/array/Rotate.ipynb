{
 "cells": [
  {
   "cell_type": "code",
   "execution_count": 6,
   "metadata": {},
   "outputs": [
    {
     "name": "stdout",
     "output_type": "stream",
     "text": [
      "[1 2 3 4 5 6 7]\n"
     ]
    }
   ],
   "source": [
    "import numpy as np\n",
    "\n",
    "array = np.array([1,2,3,4,5,6,7])\n",
    "print(array)"
   ]
  },
  {
   "cell_type": "code",
   "execution_count": 7,
   "metadata": {},
   "outputs": [
    {
     "name": "stdout",
     "output_type": "stream",
     "text": [
      "7 2 1\n",
      "6 6 4\n",
      "   6 4\n",
      "   4 2\n",
      "   2 0\n",
      "   0 5\n",
      "   5 3\n",
      "   3 1\n",
      "  [6 7 1 2 3 4 5]\n",
      "[6 7 1 2 3 4 5]\n"
     ]
    }
   ],
   "source": [
    "def get_greatest_common_divisor(in0: int, in1: int) -> int:\n",
    "    if in0 <= in1:\n",
    "        min_num = in0\n",
    "        max_num = in1\n",
    "    else:\n",
    "        min_num = in1\n",
    "        max_num = in0\n",
    "    greatest_common_divisor = 1\n",
    "    for i in range(1, min_num+1):\n",
    "        if (min_num % i == 0) & (max_num % i == 0):\n",
    "            greatest_common_divisor = i\n",
    "    return greatest_common_divisor\n",
    "\n",
    "def rotate(array: list, k: int) -> None:\n",
    "    length = len(array)\n",
    "    k_real = k % length\n",
    "    key = get_greatest_common_divisor(length, k_real)\n",
    "    print(length, k_real, key)\n",
    "    while key:\n",
    "        index_start = (length - 1 - (key -1))%length\n",
    "        temp = array[index_start]\n",
    "        index_cur = index_start\n",
    "        index_next = (index_cur - k_real)%length\n",
    "        \n",
    "        print(index_start, index_cur, index_next)\n",
    "        while index_next != index_start:\n",
    "            array[index_cur] = array[index_next]\n",
    "            print(\"  \", index_cur, index_next)\n",
    "            index_cur = index_next\n",
    "            index_next = (index_cur - k_real)%length\n",
    "            \n",
    "        array[index_cur] = temp\n",
    "        print(\" \", array)\n",
    "        key = key - 1\n",
    "        \n",
    "\n",
    "rotate(array, 2)\n",
    "print(array)\n",
    "    \n",
    "    "
   ]
  },
  {
   "cell_type": "code",
   "execution_count": null,
   "metadata": {},
   "outputs": [],
   "source": []
  }
 ],
 "metadata": {
  "kernelspec": {
   "display_name": "Python 3",
   "language": "python",
   "name": "python3"
  },
  "language_info": {
   "codemirror_mode": {
    "name": "ipython",
    "version": 3
   },
   "file_extension": ".py",
   "mimetype": "text/x-python",
   "name": "python",
   "nbconvert_exporter": "python",
   "pygments_lexer": "ipython3",
   "version": "3.7.7"
  }
 },
 "nbformat": 4,
 "nbformat_minor": 4
}
